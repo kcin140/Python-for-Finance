{
 "cells": [
  {
   "cell_type": "code",
   "execution_count": 1,
   "metadata": {},
   "outputs": [],
   "source": [
    "from pandas_datareader import data\n",
    "import matplotlib.pyplot as plt\n",
    "import pandas as pd\n",
    "# variables needed are final value of investments, total amount invested, and total return"
   ]
  },
  {
   "cell_type": "code",
   "execution_count": 2,
   "metadata": {},
   "outputs": [],
   "source": [
    "def end_of_month_DCA(x, start_date, end_date, monthly_contribution):\n",
    "    panel_data = data.DataReader(x, 'yahoo', start_date, end_date, monthly_contribution)['Adj Close']\n",
    "    all_end = pd.date_range(start=start_date, end=end_date, freq='BM')\n",
    "    close = panel_data.reindex(all_end)\n",
    "    close = close.fillna(method='ffill')\n",
    "    most_recent = close[-1]\n",
    "    amount_invested = close.count() * monthly_contribution\n",
    "    total = 0\n",
    "    for y in close:\n",
    "        total = total + (monthly_contribution/y)\n",
    "    final_value = total * most_recent\n",
    "    final_return = ((final_value - amount_invested)/amount_invested) * 100\n",
    "    print(\"Stock: \" + str(x))\n",
    "    print(\"Monthly Contribution: $\" + str(monthly_contribution))\n",
    "    print(\"Start Date: \" + str(start_date))\n",
    "    print(\"End Date: \" + str(end_date))\n",
    "    print(\"Total amount invested: $\" + str(amount_invested))\n",
    "    print(\"Final investment worth: $\" + str(round(final_value, 2)))\n",
    "    print(\"Total Return: \" + str(round(final_return, 2)) + \"%\")"
   ]
  },
  {
   "cell_type": "code",
   "execution_count": 3,
   "metadata": {},
   "outputs": [],
   "source": [
    "def beg_of_month_DCA(x, start_date, end_date, monthly_contribution):\n",
    "    panel_data = data.DataReader(x, 'yahoo', start_date, end_date, monthly_contribution)['Adj Close']\n",
    "    all_end = pd.date_range(start=start_date, end=end_date, freq='BMS')\n",
    "    close = panel_data.reindex(all_end)\n",
    "    close = close.fillna(method='ffill')\n",
    "    most_recent = close[-1]\n",
    "    amount_invested = close.count() * monthly_contribution\n",
    "    total = 0\n",
    "    for y in close:\n",
    "        total = total + (monthly_contribution/y)\n",
    "    final_value = total * most_recent\n",
    "    final_return = ((final_value - amount_invested)/amount_invested) * 100\n",
    "    print(\"Stock: \" + str(x))\n",
    "    print(\"Monthly Contribution: $\" + str(monthly_contribution))\n",
    "    print(\"Start Date: \" + str(start_date))\n",
    "    print(\"End Date: \" + str(end_date))\n",
    "    print(\"Total amount invested: $\" + str(amount_invested))\n",
    "    print(\"Final investment worth: $\" + str(round(final_value, 2)))\n",
    "    print(\"Total Return: \" + str(round(final_return, 2)) + \"%\")"
   ]
  },
  {
   "cell_type": "code",
   "execution_count": 4,
   "metadata": {},
   "outputs": [
    {
     "name": "stdout",
     "output_type": "stream",
     "text": [
      "Stock: VTSMX\n",
      "Monthly Contribution: $100\n",
      "Start Date: 1995-01-01\n",
      "End Date: 2019-01-31\n",
      "Total amount invested: $28900\n",
      "Final investment worth: $88464.63\n",
      "Total Return: 206.11%\n"
     ]
    }
   ],
   "source": [
    "end_of_month_DCA('VTSMX', '1995-01-01', '2019-01-31', 100)"
   ]
  },
  {
   "cell_type": "code",
   "execution_count": null,
   "metadata": {},
   "outputs": [],
   "source": []
  }
 ],
 "metadata": {
  "kernelspec": {
   "display_name": "Python 3",
   "language": "python",
   "name": "python3"
  },
  "language_info": {
   "codemirror_mode": {
    "name": "ipython",
    "version": 3
   },
   "file_extension": ".py",
   "mimetype": "text/x-python",
   "name": "python",
   "nbconvert_exporter": "python",
   "pygments_lexer": "ipython3",
   "version": "3.7.3"
  }
 },
 "nbformat": 4,
 "nbformat_minor": 2
}
