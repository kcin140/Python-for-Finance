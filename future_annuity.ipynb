{
 "cells": [
  {
   "cell_type": "code",
   "execution_count": 13,
   "metadata": {},
   "outputs": [],
   "source": [
    "import numpy as np\n",
    "import platform\n",
    "#our example: projecting an annuinity amount needed for a future annuity inflow\n",
    "#say you are 22 years old(t=0) and want to retire at age 60(t=38), you plan to contribute $25,00/year for the next 10 years(t = 1 to t = 10)\n",
    "#you want to have a retirement income of $500,000/year\n",
    "#we need to decide how much you need to contribute between periods t = 11 to t = 37(assuming first annuity payment is made at t = 38)\n",
    "#we will assume an 8% percent return for all projections"
   ]
  },
  {
   "cell_type": "code",
   "execution_count": 14,
   "metadata": {},
   "outputs": [
    {
     "name": "stdout",
     "output_type": "stream",
     "text": [
      "$362,164.06\n"
     ]
    }
   ],
   "source": [
    "#contribute 25000/year for the next 10 years\n",
    "#future value after 10 years of contributing 25000/year at an 8% return\n",
    "t_10 = np.fv(rate = 8/100, nper = 10, pmt = -25000, pv = 0)\n",
    "print('${:,.2f}'.format(t_10))"
   ]
  },
  {
   "cell_type": "code",
   "execution_count": 15,
   "metadata": {},
   "outputs": [
    {
     "name": "stdout",
     "output_type": "stream",
     "text": [
      "$4,909,073.70\n"
     ]
    }
   ],
   "source": [
    "#this calculates the entire amount needed to fund a retirement with an annuinity of 300,000/year\n",
    "t_38 = np.pv(rate=8/100, nper=20, pmt=-500000, fv=0)\n",
    "print('${:,.2f}'.format(t_38))"
   ]
  },
  {
   "cell_type": "code",
   "execution_count": 16,
   "metadata": {},
   "outputs": [
    {
     "name": "stdout",
     "output_type": "stream",
     "text": [
      "$18,718.98\n"
     ]
    }
   ],
   "source": [
    "#calculates how much you would need to contribute between period t_10 and period t_38\n",
    "#period0 = 22, period38 = 60\n",
    "reqd_savings = np.pmt(rate=8/100, nper=28, pv=t_10, fv=-t_38)\n",
    "print('${:,.2f}'.format(reqd_savings))"
   ]
  },
  {
   "cell_type": "code",
   "execution_count": null,
   "metadata": {},
   "outputs": [],
   "source": [
    "#^we need to contribute $18,718.98 per year between periods t_10 and t_38 to have a retirement income of $500,000/year for 20 years"
   ]
  }
 ],
 "metadata": {
  "kernelspec": {
   "display_name": "Python 3",
   "language": "python",
   "name": "python3"
  },
  "language_info": {
   "codemirror_mode": {
    "name": "ipython",
    "version": 3
   },
   "file_extension": ".py",
   "mimetype": "text/x-python",
   "name": "python",
   "nbconvert_exporter": "python",
   "pygments_lexer": "ipython3",
   "version": "3.7.3"
  }
 },
 "nbformat": 4,
 "nbformat_minor": 2
}
